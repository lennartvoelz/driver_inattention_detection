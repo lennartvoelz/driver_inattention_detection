{
 "cells": [
  {
   "cell_type": "code",
   "execution_count": 2,
   "metadata": {},
   "outputs": [
    {
     "name": "stderr",
     "output_type": "stream",
     "text": [
      "2024-07-24 17:44:23.365729: I tensorflow/tsl/cuda/cudart_stub.cc:28] Could not find cuda drivers on your machine, GPU will not be used.\n",
      "2024-07-24 17:44:23.592943: I tensorflow/tsl/cuda/cudart_stub.cc:28] Could not find cuda drivers on your machine, GPU will not be used.\n",
      "2024-07-24 17:44:23.594276: I tensorflow/core/platform/cpu_feature_guard.cc:182] This TensorFlow binary is optimized to use available CPU instructions in performance-critical operations.\n",
      "To enable the following instructions: AVX2 FMA, in other operations, rebuild TensorFlow with the appropriate compiler flags.\n",
      "2024-07-24 17:44:32.124696: W tensorflow/compiler/tf2tensorrt/utils/py_utils.cc:38] TF-TRT Warning: Could not find TensorRT\n"
     ]
    }
   ],
   "source": [
    "import numpy as np\n",
    "import matplotlib.pyplot as plt\n",
    "import pandas as pd\n",
    "import tensorflow as tf\n",
    "import json\n",
    "import os\n",
    "import sklearn as sk"
   ]
  },
  {
   "cell_type": "code",
   "execution_count": 2,
   "metadata": {},
   "outputs": [],
   "source": [
    "classes_train = pd.read_csv('../data/train/_classes.csv')\n",
    "classes_test = pd.read_csv('../data/test/_classes.csv')\n",
    "classes_valid = pd.read_csv('../data/valid/_classes.csv')\n",
    "\n",
    "# Concatenate all data\n",
    "all_data_merged = pd.concat([classes_train, classes_test, classes_valid])\n",
    "\n",
    "melted = all_data_merged.melt(id_vars=[\"filename\"], var_name=\"category\", value_name=\"value\")\n",
    "melted = melted[melted[\"value\"] == 1]\n",
    "all_data_merged_class = melted.drop(\"value\", axis=1).rename(columns={\"category\": \"class\"})\n",
    "\n",
    "all_data_merged_class.head()\n",
    "\n",
    "subdatasets = [[] for _ in range(5)]\n",
    "\n",
    "# Create a dictionary to map filenames to their full rows\n",
    "filename_to_row = {row['filename']: row for _, row in all_data_merged.iterrows()}\n",
    "\n",
    "# Distribute entries into the subdatasets\n",
    "for idx, row in all_data_merged_class.iterrows():\n",
    "    full_row = filename_to_row[row['filename']]\n",
    "    subdatasets[idx % 5].append(full_row)\n",
    "\n",
    "# Convert lists to DataFrames\n",
    "subdatasets = [pd.DataFrame(subdataset) for subdataset in subdatasets]\n",
    "\n",
    "# Verify the first few rows of each subdataset\n",
    "for i, subdataset in enumerate(subdatasets):\n",
    "    subdataset.sample(frac=1).reset_index(drop=True)\n",
    "\n",
    "#shuffle the subdatasets\n",
    "for i, subdataset in enumerate(subdatasets):\n",
    "    subdatasets[i] = subdataset.sample(frac=1).reset_index(drop=True)\n",
    "    \n",
    "\n"
   ]
  },
  {
   "cell_type": "code",
   "execution_count": 3,
   "metadata": {},
   "outputs": [],
   "source": [
    "#write subdatasets to csv files in data/cross_valid_sets\n",
    "for i, subdataset in enumerate(subdatasets):\n",
    "    subdataset.to_csv(f'../data/cross_valid_sets/subdataset_{i}.csv', index=False)\n",
    "    "
   ]
  },
  {
   "cell_type": "code",
   "execution_count": 17,
   "metadata": {},
   "outputs": [
    {
     "name": "stdout",
     "output_type": "stream",
     "text": [
      "1231 938 101\n",
      "4969 3732 439\n"
     ]
    }
   ],
   "source": [
    "test_1 = pd.read_csv('../data/cross_valid_sets/subdataset_1.csv')\n",
    "test_2= pd.read_csv('../data/cross_valid_sets/subdataset_2.csv')\n",
    "test_3 = pd.read_csv('../data/cross_valid_sets/subdataset_3.csv')\n",
    "\n",
    "sum_1 = test_1[\" SafeDriving\"].sum()\n",
    "sum_2 = test_1[\" DangerousDriving\"].sum()\n",
    "sum_3 = test_1[\" Yawn\"].sum()\n",
    "\n",
    "sum_4 = classes_train[\" SafeDriving\"].sum()\n",
    "sum_5 = classes_train[\" DangerousDriving\"].sum()\n",
    "sum_6 = classes_train[\" Yawn\"].sum()\n",
    "print(sum_1, sum_2, sum_3)\n",
    "print(sum_4, sum_5, sum_6)\n"
   ]
  },
  {
   "cell_type": "code",
   "execution_count": 22,
   "metadata": {},
   "outputs": [
    {
     "name": "stdout",
     "output_type": "stream",
     "text": [
      "0\n"
     ]
    }
   ],
   "source": [
    "print(all_data_merged[\" SafeDriving\"].iloc[5])\n"
   ]
  },
  {
   "cell_type": "code",
   "execution_count": 79,
   "metadata": {},
   "outputs": [
    {
     "name": "stdout",
     "output_type": "stream",
     "text": [
      "[0 1 0 0 0 0]\n",
      "(array([ 3688,  8072,  8769, 10340]),)\n"
     ]
    }
   ],
   "source": [
    "from sklearn.model_selection import StratifiedKFold\n",
    "X_aug = np.load('../data/data_aug_2000.npy')\n",
    "y_aug = pd.read_csv('../data/labels_aug_2000.csv', delimiter=',', index_col=0).to_numpy()\n",
    "print(y_aug[-1])\n",
    "labels_aug = []\n",
    "\n",
    "for i in range(len(y_aug)):\n",
    "    # print(y_aug[i])\n",
    "    if 1 in y_aug[i]:\n",
    "        k = np.where(y_aug[i] == 1)[0][0]\n",
    "        labels_aug.append(k)\n",
    "    else:\n",
    "        labels_aug.append(7)\n",
    "\n",
    "labels_aug = np.array(labels_aug)\n",
    "ind = np.where(labels_aug == 7)\n",
    "print(ind)\n",
    "\n",
    "\n",
    "kf = StratifiedKFold(n_splits=6, shuffle=True, random_state=42)\n",
    "\n",
    "\n"
   ]
  },
  {
   "cell_type": "code",
   "execution_count": 85,
   "metadata": {},
   "outputs": [
    {
     "name": "stdout",
     "output_type": "stream",
     "text": [
      "[array([    3,     4,     8, ..., 11986, 11987, 11990])\n",
      " array([    7,    11,    20, ..., 11968, 11972, 12001])\n",
      " array([   16,    19,    27, ..., 11958, 11978, 11991])\n",
      " array([    2,     5,    10, ..., 11997, 12002, 12003])\n",
      " array([    6,    17,    23, ..., 11995, 11996, 12000])\n",
      " array([    0,     1,    32, ..., 11979, 11998, 11999])]\n"
     ]
    },
    {
     "name": "stderr",
     "output_type": "stream",
     "text": [
      "/home/maxm/conda/envs/default/lib/python3.10/site-packages/sklearn/model_selection/_split.py:776: UserWarning: The least populated class in y has only 4 members, which is less than n_splits=6.\n",
      "  warnings.warn(\n",
      "/tmp/ipykernel_8905/3001742484.py:8: VisibleDeprecationWarning: Creating an ndarray from ragged nested sequences (which is a list-or-tuple of lists-or-tuples-or ndarrays with different lengths or shapes) is deprecated. If you meant to do this, you must specify 'dtype=object' when creating the ndarray.\n",
      "  cross_ind = np.array(cross_ind)\n"
     ]
    }
   ],
   "source": [
    "cross_ind = []\n",
    "\n",
    "for train_index, val_index in kf.split(X = X_aug, y = labels_aug):\n",
    "    # train_data, val_data = X_aug[train_index], X_aug[val_index]\n",
    "    # train_labels, val_labels = y_aug[train_index], y_aug[val_index]\n",
    "    cross_ind.append(val_index)\n",
    "\n",
    "cross_ind = np.array(cross_ind)\n",
    "print(cross_ind)"
   ]
  },
  {
   "cell_type": "code",
   "execution_count": 92,
   "metadata": {},
   "outputs": [
    {
     "name": "stdout",
     "output_type": "stream",
     "text": [
      "2001\n",
      "[333 334 333 333 333 334]\n"
     ]
    }
   ],
   "source": [
    "print(len(X_aug[cross_ind[0]]))\n",
    "labels_1_6 = y_aug[cross_ind[0]]\n",
    "print(labels_1_6.sum(axis = 0))"
   ]
  },
  {
   "cell_type": "code",
   "execution_count": 93,
   "metadata": {},
   "outputs": [],
   "source": [
    "np.save('../data/cross_val_6fold_2000.npy', cross_ind)"
   ]
  }
 ],
 "metadata": {
  "kernelspec": {
   "display_name": "Python 3",
   "language": "python",
   "name": "python3"
  },
  "language_info": {
   "codemirror_mode": {
    "name": "ipython",
    "version": 3
   },
   "file_extension": ".py",
   "mimetype": "text/x-python",
   "name": "python",
   "nbconvert_exporter": "python",
   "pygments_lexer": "ipython3",
   "version": "3.10.11"
  }
 },
 "nbformat": 4,
 "nbformat_minor": 2
}
