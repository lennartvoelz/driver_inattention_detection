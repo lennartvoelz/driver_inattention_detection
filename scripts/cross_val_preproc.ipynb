{
 "cells": [
  {
   "cell_type": "code",
   "execution_count": 4,
   "metadata": {},
   "outputs": [],
   "source": [
    "import numpy as np\n",
    "import matplotlib.pyplot as plt\n",
    "import pandas as pd\n",
    "import tensorflow as tf\n",
    "import json\n",
    "import os\n",
    "import sklearn as sk"
   ]
  },
  {
   "cell_type": "code",
   "execution_count": 5,
   "metadata": {},
   "outputs": [],
   "source": [
    "classes_train = pd.read_csv('../data/train/_classes.csv')\n",
    "classes_test = pd.read_csv('../data/test/_classes.csv')\n",
    "classes_valid = pd.read_csv('../data/valid/_classes.csv')\n",
    "\n",
    "# Concatenate all data\n",
    "all_data_merged = pd.concat([classes_train, classes_test, classes_valid])\n",
    "\n",
    "melted = all_data_merged.melt(id_vars=[\"filename\"], var_name=\"category\", value_name=\"value\")\n",
    "melted = melted[melted[\"value\"] == 1]\n",
    "all_data_merged_class = melted.drop(\"value\", axis=1).rename(columns={\"category\": \"class\"})\n",
    "\n",
    "all_data_merged_class.head()\n",
    "\n",
    "subdatasets = [[] for _ in range(5)]\n",
    "\n",
    "# Create a dictionary to map filenames to their full rows\n",
    "filename_to_row = {row['filename']: row for _, row in all_data_merged.iterrows()}\n",
    "\n",
    "# Distribute entries into the subdatasets\n",
    "for idx, row in all_data_merged_class.iterrows():\n",
    "    full_row = filename_to_row[row['filename']]\n",
    "    subdatasets[idx % 5].append(full_row)\n",
    "\n",
    "# Convert lists to DataFrames\n",
    "subdatasets = [pd.DataFrame(subdataset) for subdataset in subdatasets]\n",
    "\n",
    "# Verify the first few rows of each subdataset\n",
    "for i, subdataset in enumerate(subdatasets):\n",
    "    subdataset.sample(frac=1).reset_index(drop=True)\n",
    "\n",
    "#shuffle the subdatasets\n",
    "for i, subdataset in enumerate(subdatasets):\n",
    "    subdatasets[i] = subdataset.sample(frac=1).reset_index(drop=True)\n",
    "    \n",
    "\n"
   ]
  },
  {
   "cell_type": "code",
   "execution_count": 6,
   "metadata": {},
   "outputs": [],
   "source": [
    "#write subdatasets to csv files in data/cross_valid_sets\n",
    "for i, subdataset in enumerate(subdatasets):\n",
    "    subdataset.to_csv(f'../data/cross_valid_sets/subdataset_{i}.csv', index=False)\n",
    "    "
   ]
  },
  {
   "cell_type": "code",
   "execution_count": 7,
   "metadata": {},
   "outputs": [
    {
     "name": "stdout",
     "output_type": "stream",
     "text": [
      "1231 938 101\n",
      "4969 3732 439\n"
     ]
    }
   ],
   "source": [
    "test_1 = pd.read_csv('../data/cross_valid_sets/subdataset_1.csv')\n",
    "test_2= pd.read_csv('../data/cross_valid_sets/subdataset_2.csv')\n",
    "test_3 = pd.read_csv('../data/cross_valid_sets/subdataset_3.csv')\n",
    "\n",
    "sum_1 = test_1[\" SafeDriving\"].sum()\n",
    "sum_2 = test_1[\" DangerousDriving\"].sum()\n",
    "sum_3 = test_1[\" Yawn\"].sum()\n",
    "\n",
    "sum_4 = classes_train[\" SafeDriving\"].sum()\n",
    "sum_5 = classes_train[\" DangerousDriving\"].sum()\n",
    "sum_6 = classes_train[\" Yawn\"].sum()\n",
    "print(sum_1, sum_2, sum_3)\n",
    "print(sum_4, sum_5, sum_6)\n"
   ]
  },
  {
   "cell_type": "code",
   "execution_count": 8,
   "metadata": {},
   "outputs": [
    {
     "name": "stdout",
     "output_type": "stream",
     "text": [
      "0\n"
     ]
    }
   ],
   "source": [
    "print(all_data_merged[\" SafeDriving\"].iloc[5])\n"
   ]
  },
  {
   "cell_type": "code",
   "execution_count": 9,
   "metadata": {},
   "outputs": [
    {
     "name": "stdout",
     "output_type": "stream",
     "text": [
      "[0 0 0 1 0 0]\n",
      "(array([ 276, 3947, 3961, 6886]),)\n"
     ]
    }
   ],
   "source": [
    "from sklearn.model_selection import StratifiedKFold\n",
    "X_aug = np.load('../data/data_aug_2000.npy')\n",
    "y_aug = pd.read_csv('../data/labels_aug_2000.csv', delimiter=',', index_col=0).to_numpy()\n",
    "print(y_aug[-1])\n",
    "labels_aug = []\n",
    "\n",
    "for i in range(len(y_aug)):\n",
    "    # print(y_aug[i])\n",
    "    if 1 in y_aug[i]:\n",
    "        k = np.where(y_aug[i] == 1)[0][0]\n",
    "        labels_aug.append(k)\n",
    "    else:\n",
    "        labels_aug.append(7)\n",
    "\n",
    "labels_aug = np.array(labels_aug)\n",
    "ind = np.where(labels_aug == 7)\n",
    "print(ind)\n",
    "\n",
    "\n",
    "kf = StratifiedKFold(n_splits=6, shuffle=True, random_state=42)\n",
    "\n",
    "\n"
   ]
  },
  {
   "cell_type": "code",
   "execution_count": 10,
   "metadata": {},
   "outputs": [
    {
     "name": "stderr",
     "output_type": "stream",
     "text": [
      "/home/lennart/.local/mambaforge/envs/ml/lib/python3.10/site-packages/sklearn/model_selection/_split.py:776: UserWarning: The least populated class in y has only 4 members, which is less than n_splits=6.\n",
      "  warnings.warn(\n"
     ]
    },
    {
     "ename": "ValueError",
     "evalue": "setting an array element with a sequence. The requested array has an inhomogeneous shape after 1 dimensions. The detected shape was (6,) + inhomogeneous part.",
     "output_type": "error",
     "traceback": [
      "\u001b[0;31m---------------------------------------------------------------------------\u001b[0m",
      "\u001b[0;31mValueError\u001b[0m                                Traceback (most recent call last)",
      "Cell \u001b[0;32mIn[10], line 8\u001b[0m\n\u001b[1;32m      3\u001b[0m \u001b[38;5;28;01mfor\u001b[39;00m train_index, val_index \u001b[38;5;129;01min\u001b[39;00m kf\u001b[38;5;241m.\u001b[39msplit(X \u001b[38;5;241m=\u001b[39m X_aug, y \u001b[38;5;241m=\u001b[39m labels_aug):\n\u001b[1;32m      4\u001b[0m     \u001b[38;5;66;03m# train_data, val_data = X_aug[train_index], X_aug[val_index]\u001b[39;00m\n\u001b[1;32m      5\u001b[0m     \u001b[38;5;66;03m# train_labels, val_labels = y_aug[train_index], y_aug[val_index]\u001b[39;00m\n\u001b[1;32m      6\u001b[0m     cross_ind\u001b[38;5;241m.\u001b[39mappend(val_index)\n\u001b[0;32m----> 8\u001b[0m cross_ind \u001b[38;5;241m=\u001b[39m \u001b[43mnp\u001b[49m\u001b[38;5;241;43m.\u001b[39;49m\u001b[43marray\u001b[49m\u001b[43m(\u001b[49m\u001b[43mcross_ind\u001b[49m\u001b[43m)\u001b[49m\n\u001b[1;32m      9\u001b[0m \u001b[38;5;28mprint\u001b[39m(cross_ind)\n",
      "\u001b[0;31mValueError\u001b[0m: setting an array element with a sequence. The requested array has an inhomogeneous shape after 1 dimensions. The detected shape was (6,) + inhomogeneous part."
     ]
    }
   ],
   "source": [
    "cross_ind = []\n",
    "\n",
    "for train_index, val_index in kf.split(X = X_aug, y = labels_aug):\n",
    "    # train_data, val_data = X_aug[train_index], X_aug[val_index]\n",
    "    # train_labels, val_labels = y_aug[train_index], y_aug[val_index]\n",
    "    cross_ind.append(val_index)\n",
    "\n",
    "cross_ind = np.array(cross_ind)\n",
    "print(cross_ind)"
   ]
  },
  {
   "cell_type": "code",
   "execution_count": null,
   "metadata": {},
   "outputs": [
    {
     "name": "stdout",
     "output_type": "stream",
     "text": [
      "2001\n",
      "[333 334 333 333 333 334]\n"
     ]
    }
   ],
   "source": [
    "print(len(X_aug[cross_ind[0]]))\n",
    "labels_1_6 = y_aug[cross_ind[0]]\n",
    "print(labels_1_6.sum(axis = 0))"
   ]
  },
  {
   "cell_type": "code",
   "execution_count": null,
   "metadata": {},
   "outputs": [],
   "source": [
    "np.save('../data/cross_val_6fold_2000.npy', cross_ind)"
   ]
  },
  {
   "cell_type": "code",
   "execution_count": 14,
   "metadata": {},
   "outputs": [
    {
     "ename": "OSError",
     "evalue": "103728000 requested and 100732889 written",
     "output_type": "error",
     "traceback": [
      "\u001b[0;31m---------------------------------------------------------------------------\u001b[0m",
      "\u001b[0;31mOSError\u001b[0m                                   Traceback (most recent call last)",
      "Cell \u001b[0;32mIn[14], line 37\u001b[0m\n\u001b[1;32m     34\u001b[0m X_train \u001b[38;5;241m=\u001b[39m X_train[val_size:]\n\u001b[1;32m     35\u001b[0m y_train \u001b[38;5;241m=\u001b[39m y_train[val_size:]\n\u001b[0;32m---> 37\u001b[0m \u001b[43mnp\u001b[49m\u001b[38;5;241;43m.\u001b[39;49m\u001b[43msave\u001b[49m\u001b[43m(\u001b[49m\u001b[43mos\u001b[49m\u001b[38;5;241;43m.\u001b[39;49m\u001b[43mpath\u001b[49m\u001b[38;5;241;43m.\u001b[39;49m\u001b[43mjoin\u001b[49m\u001b[43m(\u001b[49m\u001b[43moutput_dir\u001b[49m\u001b[43m,\u001b[49m\u001b[43m \u001b[49m\u001b[38;5;124;43mf\u001b[39;49m\u001b[38;5;124;43m\"\u001b[39;49m\u001b[38;5;124;43mX_train_fold\u001b[39;49m\u001b[38;5;132;43;01m{\u001b[39;49;00m\u001b[43mi\u001b[49m\u001b[38;5;132;43;01m}\u001b[39;49;00m\u001b[38;5;124;43m.npy\u001b[39;49m\u001b[38;5;124;43m\"\u001b[39;49m\u001b[43m)\u001b[49m\u001b[43m,\u001b[49m\u001b[43m \u001b[49m\u001b[43mX_train\u001b[49m\u001b[43m)\u001b[49m\n\u001b[1;32m     38\u001b[0m np\u001b[38;5;241m.\u001b[39msave(os\u001b[38;5;241m.\u001b[39mpath\u001b[38;5;241m.\u001b[39mjoin(output_dir, \u001b[38;5;124mf\u001b[39m\u001b[38;5;124m\"\u001b[39m\u001b[38;5;124my_train_fold\u001b[39m\u001b[38;5;132;01m{\u001b[39;00mi\u001b[38;5;132;01m}\u001b[39;00m\u001b[38;5;124m.npy\u001b[39m\u001b[38;5;124m\"\u001b[39m), y_train)\n\u001b[1;32m     39\u001b[0m np\u001b[38;5;241m.\u001b[39msave(os\u001b[38;5;241m.\u001b[39mpath\u001b[38;5;241m.\u001b[39mjoin(output_dir, \u001b[38;5;124mf\u001b[39m\u001b[38;5;124m\"\u001b[39m\u001b[38;5;124mX_val_fold\u001b[39m\u001b[38;5;132;01m{\u001b[39;00mi\u001b[38;5;132;01m}\u001b[39;00m\u001b[38;5;124m.npy\u001b[39m\u001b[38;5;124m\"\u001b[39m), X_val)\n",
      "File \u001b[0;32m~/.local/mambaforge/envs/ml/lib/python3.10/site-packages/numpy/lib/npyio.py:546\u001b[0m, in \u001b[0;36msave\u001b[0;34m(file, arr, allow_pickle, fix_imports)\u001b[0m\n\u001b[1;32m    544\u001b[0m \u001b[38;5;28;01mwith\u001b[39;00m file_ctx \u001b[38;5;28;01mas\u001b[39;00m fid:\n\u001b[1;32m    545\u001b[0m     arr \u001b[38;5;241m=\u001b[39m np\u001b[38;5;241m.\u001b[39masanyarray(arr)\n\u001b[0;32m--> 546\u001b[0m     \u001b[38;5;28;43mformat\u001b[39;49m\u001b[38;5;241;43m.\u001b[39;49m\u001b[43mwrite_array\u001b[49m\u001b[43m(\u001b[49m\u001b[43mfid\u001b[49m\u001b[43m,\u001b[49m\u001b[43m \u001b[49m\u001b[43marr\u001b[49m\u001b[43m,\u001b[49m\u001b[43m \u001b[49m\u001b[43mallow_pickle\u001b[49m\u001b[38;5;241;43m=\u001b[39;49m\u001b[43mallow_pickle\u001b[49m\u001b[43m,\u001b[49m\n\u001b[1;32m    547\u001b[0m \u001b[43m                       \u001b[49m\u001b[43mpickle_kwargs\u001b[49m\u001b[38;5;241;43m=\u001b[39;49m\u001b[38;5;28;43mdict\u001b[39;49m\u001b[43m(\u001b[49m\u001b[43mfix_imports\u001b[49m\u001b[38;5;241;43m=\u001b[39;49m\u001b[43mfix_imports\u001b[49m\u001b[43m)\u001b[49m\u001b[43m)\u001b[49m\n",
      "File \u001b[0;32m~/.local/mambaforge/envs/ml/lib/python3.10/site-packages/numpy/lib/format.py:730\u001b[0m, in \u001b[0;36mwrite_array\u001b[0;34m(fp, array, version, allow_pickle, pickle_kwargs)\u001b[0m\n\u001b[1;32m    728\u001b[0m \u001b[38;5;28;01melse\u001b[39;00m:\n\u001b[1;32m    729\u001b[0m     \u001b[38;5;28;01mif\u001b[39;00m isfileobj(fp):\n\u001b[0;32m--> 730\u001b[0m         \u001b[43marray\u001b[49m\u001b[38;5;241;43m.\u001b[39;49m\u001b[43mtofile\u001b[49m\u001b[43m(\u001b[49m\u001b[43mfp\u001b[49m\u001b[43m)\u001b[49m\n\u001b[1;32m    731\u001b[0m     \u001b[38;5;28;01melse\u001b[39;00m:\n\u001b[1;32m    732\u001b[0m         \u001b[38;5;28;01mfor\u001b[39;00m chunk \u001b[38;5;129;01min\u001b[39;00m numpy\u001b[38;5;241m.\u001b[39mnditer(\n\u001b[1;32m    733\u001b[0m                 array, flags\u001b[38;5;241m=\u001b[39m[\u001b[38;5;124m'\u001b[39m\u001b[38;5;124mexternal_loop\u001b[39m\u001b[38;5;124m'\u001b[39m, \u001b[38;5;124m'\u001b[39m\u001b[38;5;124mbuffered\u001b[39m\u001b[38;5;124m'\u001b[39m, \u001b[38;5;124m'\u001b[39m\u001b[38;5;124mzerosize_ok\u001b[39m\u001b[38;5;124m'\u001b[39m],\n\u001b[1;32m    734\u001b[0m                 buffersize\u001b[38;5;241m=\u001b[39mbuffersize, order\u001b[38;5;241m=\u001b[39m\u001b[38;5;124m'\u001b[39m\u001b[38;5;124mC\u001b[39m\u001b[38;5;124m'\u001b[39m):\n",
      "\u001b[0;31mOSError\u001b[0m: 103728000 requested and 100732889 written"
     ]
    }
   ],
   "source": [
    "import os\n",
    "import numpy as np\n",
    "import pandas as pd\n",
    "from sklearn.model_selection import KFold\n",
    "\n",
    "# Load data\n",
    "X = np.load('../data/data_aug_2000.npy')\n",
    "y = pd.read_csv('../data/labels_aug_2000.csv', delimiter=',', index_col=0).to_numpy()\n",
    "\n",
    "# Generate labels\n",
    "labels_aug = []\n",
    "for i in range(len(y)):\n",
    "    if 1 in y[i]:\n",
    "        k = np.argmax(y[i])\n",
    "        labels_aug.append(k)\n",
    "    else:\n",
    "        labels_aug.append(7)\n",
    "\n",
    "# Create KFold object\n",
    "kf = KFold(n_splits=10)\n",
    "\n",
    "# Ensure the directory exists\n",
    "output_dir = \"../data/6_fold/\"\n",
    "os.makedirs(output_dir, exist_ok=True)\n",
    "\n",
    "# Split into 10 folds and save\n",
    "for i, (train_index, test_index) in enumerate(kf.split(X, labels_aug)):\n",
    "    X_train, X_test = X[train_index], X[test_index]\n",
    "    y_train, y_test = y[train_index], y[test_index]\n",
    "\n",
    "    val_size = int(0.2 * X_train.shape[0])\n",
    "    X_val = X_train[:val_size]\n",
    "    y_val = y_train[:val_size]\n",
    "    X_train = X_train[val_size:]\n",
    "    y_train = y_train[val_size:]\n",
    "\n",
    "    np.save(os.path.join(output_dir, f\"X_train_fold{i}.npy\"), X_train)\n",
    "    np.save(os.path.join(output_dir, f\"y_train_fold{i}.npy\"), y_train)\n",
    "    np.save(os.path.join(output_dir, f\"X_val_fold{i}.npy\"), X_val)\n",
    "    np.save(os.path.join(output_dir, f\"y_val_fold{i}.npy\"), y_val)\n",
    "    np.save(os.path.join(output_dir, f\"X_test_fold{i}.npy\"), X_test)\n",
    "    np.save(os.path.join(output_dir, f\"y_test_fold{i}.npy\"), y_test)\n",
    "\n",
    "print(\"Data split into 10 folds\")"
   ]
  }
 ],
 "metadata": {
  "kernelspec": {
   "display_name": "Python 3",
   "language": "python",
   "name": "python3"
  },
  "language_info": {
   "codemirror_mode": {
    "name": "ipython",
    "version": 3
   },
   "file_extension": ".py",
   "mimetype": "text/x-python",
   "name": "python",
   "nbconvert_exporter": "python",
   "pygments_lexer": "ipython3",
   "version": "3.10.14"
  }
 },
 "nbformat": 4,
 "nbformat_minor": 2
}
