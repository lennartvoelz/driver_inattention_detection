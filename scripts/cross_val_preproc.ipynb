{
 "cells": [
  {
   "cell_type": "code",
   "execution_count": 1,
   "metadata": {},
   "outputs": [
    {
     "name": "stderr",
     "output_type": "stream",
     "text": [
      "2024-07-15 18:03:57.579457: I tensorflow/core/platform/cpu_feature_guard.cc:210] This TensorFlow binary is optimized to use available CPU instructions in performance-critical operations.\n",
      "To enable the following instructions: AVX2 FMA, in other operations, rebuild TensorFlow with the appropriate compiler flags.\n",
      "2024-07-15 18:04:07.950105: W tensorflow/compiler/tf2tensorrt/utils/py_utils.cc:38] TF-TRT Warning: Could not find TensorRT\n"
     ]
    }
   ],
   "source": [
    "import numpy as np\n",
    "import matplotlib.pyplot as plt\n",
    "import pandas as pd\n",
    "import tensorflow as tf\n",
    "import json\n",
    "import os\n",
    "import sklearn as sk"
   ]
  },
  {
   "cell_type": "code",
   "execution_count": 2,
   "metadata": {},
   "outputs": [],
   "source": [
    "classes_train = pd.read_csv('../data/train/_classes.csv')\n",
    "classes_test = pd.read_csv('../data/test/_classes.csv')\n",
    "classes_valid = pd.read_csv('../data/valid/_classes.csv')\n",
    "\n",
    "# Concatenate all data\n",
    "all_data_merged = pd.concat([classes_train, classes_test, classes_valid])\n",
    "\n",
    "melted = all_data_merged.melt(id_vars=[\"filename\"], var_name=\"category\", value_name=\"value\")\n",
    "melted = melted[melted[\"value\"] == 1]\n",
    "all_data_merged_class = melted.drop(\"value\", axis=1).rename(columns={\"category\": \"class\"})\n",
    "\n",
    "all_data_merged_class.head()\n",
    "\n",
    "subdatasets = [[] for _ in range(5)]\n",
    "\n",
    "# Create a dictionary to map filenames to their full rows\n",
    "filename_to_row = {row['filename']: row for _, row in all_data_merged.iterrows()}\n",
    "\n",
    "# Distribute entries into the subdatasets\n",
    "for idx, row in all_data_merged_class.iterrows():\n",
    "    full_row = filename_to_row[row['filename']]\n",
    "    subdatasets[idx % 5].append(full_row)\n",
    "\n",
    "# Convert lists to DataFrames\n",
    "subdatasets = [pd.DataFrame(subdataset) for subdataset in subdatasets]\n",
    "\n",
    "# Verify the first few rows of each subdataset\n",
    "for i, subdataset in enumerate(subdatasets):\n",
    "    subdataset.sample(frac=1).reset_index(drop=True)\n",
    "\n",
    "#shuffle the subdatasets\n",
    "for i, subdataset in enumerate(subdatasets):\n",
    "    subdatasets[i] = subdataset.sample(frac=1).reset_index(drop=True)\n",
    "    \n",
    "\n"
   ]
  },
  {
   "cell_type": "code",
   "execution_count": 3,
   "metadata": {},
   "outputs": [],
   "source": [
    "#write subdatasets to csv files in data/cross_valid_sets\n",
    "for i, subdataset in enumerate(subdatasets):\n",
    "    subdataset.to_csv(f'../data/cross_valid_sets/subdataset_{i}.csv', index=False)\n",
    "    "
   ]
  },
  {
   "cell_type": "code",
   "execution_count": 17,
   "metadata": {},
   "outputs": [
    {
     "name": "stdout",
     "output_type": "stream",
     "text": [
      "1231 938 101\n",
      "4969 3732 439\n"
     ]
    }
   ],
   "source": [
    "test_1 = pd.read_csv('../data/cross_valid_sets/subdataset_1.csv')\n",
    "test_2= pd.read_csv('../data/cross_valid_sets/subdataset_2.csv')\n",
    "test_3 = pd.read_csv('../data/cross_valid_sets/subdataset_3.csv')\n",
    "\n",
    "sum_1 = test_1[\" SafeDriving\"].sum()\n",
    "sum_2 = test_1[\" DangerousDriving\"].sum()\n",
    "sum_3 = test_1[\" Yawn\"].sum()\n",
    "\n",
    "sum_4 = classes_train[\" SafeDriving\"].sum()\n",
    "sum_5 = classes_train[\" DangerousDriving\"].sum()\n",
    "sum_6 = classes_train[\" Yawn\"].sum()\n",
    "print(sum_1, sum_2, sum_3)\n",
    "print(sum_4, sum_5, sum_6)\n"
   ]
  },
  {
   "cell_type": "code",
   "execution_count": 22,
   "metadata": {},
   "outputs": [
    {
     "name": "stdout",
     "output_type": "stream",
     "text": [
      "0\n"
     ]
    }
   ],
   "source": [
    "print(all_data_merged[\" SafeDriving\"].iloc[5])"
   ]
  }
 ],
 "metadata": {
  "kernelspec": {
   "display_name": "Python 3",
   "language": "python",
   "name": "python3"
  },
  "language_info": {
   "codemirror_mode": {
    "name": "ipython",
    "version": 3
   },
   "file_extension": ".py",
   "mimetype": "text/x-python",
   "name": "python",
   "nbconvert_exporter": "python",
   "pygments_lexer": "ipython3",
   "version": "3.10.11"
  }
 },
 "nbformat": 4,
 "nbformat_minor": 2
}
