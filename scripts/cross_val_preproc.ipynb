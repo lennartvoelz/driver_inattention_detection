{
 "cells": [
  {
   "cell_type": "code",
   "execution_count": 4,
   "metadata": {},
   "outputs": [],
   "source": [
    "import numpy as np\n",
    "import matplotlib.pyplot as plt\n",
    "import pandas as pd\n",
    "import tensorflow as tf\n",
    "import json\n",
    "import os\n",
    "import sklearn as sk"
   ]
  },
  {
   "cell_type": "code",
   "execution_count": 64,
   "metadata": {},
   "outputs": [],
   "source": [
    "classes_train = pd.read_csv('../data/train/_classes.csv')\n",
    "classes_test = pd.read_csv('../data/test/_classes.csv')\n",
    "classes_valid = pd.read_csv('../data/valid/_classes.csv')\n",
    "\n",
    "# Concatenate all data\n",
    "all_data_merged = pd.concat([classes_train, classes_test, classes_valid])\n",
    "\n",
    "melted = all_data_merged.melt(id_vars=[\"filename\"], var_name=\"category\", value_name=\"value\")\n",
    "melted = melted[melted[\"value\"] == 1]\n",
    "all_data_merged_class = melted.drop(\"value\", axis=1).rename(columns={\"category\": \"class\"})\n",
    "\n",
    "all_data_merged_class.head()\n",
    "\n",
    "subdatasets = [[] for _ in range(5)]\n",
    "\n",
    "# Create a dictionary to map filenames to their full rows\n",
    "filename_to_row = {row['filename']: row for _, row in all_data_merged.iterrows()}\n",
    "\n",
    "# Distribute entries into the subdatasets\n",
    "for idx, row in all_data_merged_class.iterrows():\n",
    "    full_row = filename_to_row[row['filename']]\n",
    "    subdatasets[idx % 5].append(full_row)\n",
    "\n",
    "# Convert lists to DataFrames\n",
    "subdatasets = [pd.DataFrame(subdataset) for subdataset in subdatasets]\n",
    "\n",
    "# Verify the first few rows of each subdataset\n",
    "for i, subdataset in enumerate(subdatasets):\n",
    "    subdataset.sample(frac=1).reset_index(drop=True)\n",
    "\n",
    "#shuffle the subdatasets\n",
    "for i, subdataset in enumerate(subdatasets):\n",
    "    subdatasets[i] = subdataset.sample(frac=1).reset_index(drop=True)\n",
    "    \n",
    "\n"
   ]
  },
  {
   "cell_type": "code",
   "execution_count": 67,
   "metadata": {},
   "outputs": [],
   "source": [
    "#write subdatasets to csv files in data/cross_valid_sets\n",
    "for i, subdataset in enumerate(subdatasets):\n",
    "    subdataset.to_csv(f'../data/cross_valid_sets/subdataset_{i}.csv', index=False)\n",
    "    "
   ]
  }
 ],
 "metadata": {
  "kernelspec": {
   "display_name": "Python 3",
   "language": "python",
   "name": "python3"
  },
  "language_info": {
   "codemirror_mode": {
    "name": "ipython",
    "version": 3
   },
   "file_extension": ".py",
   "mimetype": "text/x-python",
   "name": "python",
   "nbconvert_exporter": "python",
   "pygments_lexer": "ipython3",
   "version": "3.10.11"
  }
 },
 "nbformat": 4,
 "nbformat_minor": 2
}
